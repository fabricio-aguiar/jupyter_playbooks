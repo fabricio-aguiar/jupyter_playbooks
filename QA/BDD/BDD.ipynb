{
 "cells": [
  {
   "cell_type": "markdown",
   "metadata": {},
   "source": [
    "# Criando a estrutura de diretórios\n",
    "Cria a estrutura de diretórios do [Behave](https://behave.readthedocs.io/en/latest/)\n",
    "```\n",
    ".\n",
    "│\n",
    "└───features\n",
    "    │\n",
    "    └───steps\n",
    "```\n",
    "Onde no diretório <font color='green'>features</font> teremos o arquivo de configuração do ambiente e também os arquivos <em>.feature</em> (que são escritos em [Gherkin](https://www.linkedin.com/pulse/gherkin-comunica%C3%A7%C3%A3o-atrav%C3%A9s-de-um-vocabul%C3%A1rio-e-o-marcus-vin%C3%ADcius/)).\n",
    "Em <font color='green'>steps</font> escreveremos o código python que executará os passos descritos nos arquivos <em>.feature</em>."
   ]
  },
  {
   "cell_type": "code",
   "execution_count": 1,
   "metadata": {},
   "outputs": [],
   "source": [
    "!mkdir -p features/steps"
   ]
  },
  {
   "cell_type": "markdown",
   "metadata": {},
   "source": [
    "# Configurando o ambiente para o behave\n",
    "```\n",
    ".\n",
    "│\n",
    "└───features\n",
    "    └───environment.py\n",
    "    │\n",
    "    └───steps\n",
    "```\n",
    "No arquivo <font color='green'>environment.py</font> faremos as configurações de ambiente necessárias para execução dos testes. Em <em>before_all</em> faremos os setup dos testes e no <em>after_all</em> faremos o tear-down.\n",
    "\n",
    "<strong>Obs:</strong> <em>%%writefile</em> é um [comando mágico](https://ipython.readthedocs.io/en/stable/interactive/magics.html#cellmagic-writefile) do [IPython](https://ipython.readthedocs.io/en/stable/overview.html) para escrever um arquivo."
   ]
  },
  {
   "cell_type": "code",
   "execution_count": 2,
   "metadata": {},
   "outputs": [
    {
     "name": "stdout",
     "output_type": "stream",
     "text": [
      "Overwriting ./features/environment.py\n"
     ]
    }
   ],
   "source": [
    "%%writefile ./features/environment.py\n",
    "from selenium import webdriver\n",
    "\n",
    "def before_all(context):\n",
    "    context.browser = webdriver.Chrome()\n",
    "\n",
    "def after_all(context):\n",
    "    context.browser.quit()\n",
    "    "
   ]
  },
  {
   "cell_type": "markdown",
   "metadata": {},
   "source": [
    "# Escrevendo o cenário 1 em Gherkin\n",
    "```\n",
    ".\n",
    "│\n",
    "└───features\n",
    "    └───environment.py\n",
    "    └───google.feature\n",
    "    │\n",
    "    └───steps\n",
    "```\n",
    "Escreveremos o cenário de teste para a funcionalidade, nesse caso o cenário é checar se a palavra <em>Google</em> está na barra de título do browser."
   ]
  },
  {
   "cell_type": "code",
   "execution_count": 3,
   "metadata": {},
   "outputs": [
    {
     "name": "stdout",
     "output_type": "stream",
     "text": [
      "Overwriting ./features/google.feature\n"
     ]
    }
   ],
   "source": [
    "%%writefile ./features/google.feature\n",
    "# language:pt\n",
    "\n",
    "Funcionalidade: Checar título na página do Google\n",
    "\n",
    "    Cenário: Na página do google deverá ter Google no título\n",
    "      Dado que o usuário acesse a página \"https://www.google.com/\"\n",
    "      Então a palavra \"Google\" deverá estar no título\n"
   ]
  },
  {
   "cell_type": "markdown",
   "metadata": {},
   "source": [
    "# Escrevendo o cenário 2 em Gherkin\n",
    "Nesse cenário, vamos checar se ao fazer uma busca pela palavra <em>Teste</em>, essa palavra deverá aparecer na barra de título do browser.\n",
    "\n",
    "<strong>Obs:</strong> Quando acrescentamos <em>-a</em> no comando <em>%%writefile</em>, o conteúdo da célula será adicionado ao final do arquivo."
   ]
  },
  {
   "cell_type": "code",
   "execution_count": 4,
   "metadata": {},
   "outputs": [
    {
     "name": "stdout",
     "output_type": "stream",
     "text": [
      "Appending to ./features/google.feature\n"
     ]
    }
   ],
   "source": [
    "%%writefile -a ./features/google.feature\n",
    "\n",
    "    Cenário: Ao buscar por Teste no Google, deveremos ter Teste no título\n",
    "      Dado que o usuário acesse a página \"https://www.google.com/\"\n",
    "      Quando inserir a palavra \"Teste\"\n",
    "      Então a palavra \"Teste\" deverá estar no título\n"
   ]
  },
  {
   "cell_type": "markdown",
   "metadata": {},
   "source": [
    "# Criando o cenário 1 no behave\n",
    "```\n",
    ".\n",
    "│\n",
    "└───features\n",
    "    └───environment.py\n",
    "    └───google.feature\n",
    "    │\n",
    "    └───steps\n",
    "        └───google.py\n",
    "```\n",
    "Agora implementaremos em python os passos descritos em <em>google.feature</em>, para o primeiro cenário."
   ]
  },
  {
   "cell_type": "code",
   "execution_count": 5,
   "metadata": {},
   "outputs": [
    {
     "name": "stdout",
     "output_type": "stream",
     "text": [
      "Overwriting ./features/steps/google.py\n"
     ]
    }
   ],
   "source": [
    "%%writefile ./features/steps/google.py\n",
    "from behave import given, then, when\n",
    "from selenium.webdriver.common.keys import Keys\n",
    "\n",
    "@given('que o usuário acesse a página \"{link}\"')\n",
    "def acessa_link(context, link):\n",
    "    context.browser.get(link)\n",
    "\n",
    "\n",
    "@then('a palavra \"{msg}\" deverá estar no título')\n",
    "def checa_titulo(context, msg):\n",
    "    assert msg in context.browser.title\n",
    "    "
   ]
  },
  {
   "cell_type": "markdown",
   "metadata": {},
   "source": [
    "# Criando o cenário 2 no behave\n",
    "Implementando os passos descritos em <em>google.feature</em>, para o segundo cenário."
   ]
  },
  {
   "cell_type": "code",
   "execution_count": 6,
   "metadata": {},
   "outputs": [
    {
     "name": "stdout",
     "output_type": "stream",
     "text": [
      "Appending to ./features/steps/google.py\n"
     ]
    }
   ],
   "source": [
    "%%writefile -a ./features/steps/google.py\n",
    "@when('inserir a palavra \"{palavra}\"')\n",
    "def checa_titulo(context, palavra):\n",
    "    element = context.browser.find_element_by_id('lst-ib')\n",
    "    element.send_keys(palavra + Keys.RETURN)\n",
    "    assert context.browser.title.startswith(palavra)\n"
   ]
  },
  {
   "cell_type": "markdown",
   "metadata": {},
   "source": [
    "# Rodando os testes \n",
    "Colocamos <em>!</em> para executar um comando shell.\n",
    "Para rodar os testes do behave, basta digitar comando <strong>behave</strong> seguido do caminho para o diretório <em>features</em>.\n",
    "No caso abaixo, redirecionamos a saída para um arquivo <em>txt</em>."
   ]
  },
  {
   "cell_type": "code",
   "execution_count": 7,
   "metadata": {},
   "outputs": [],
   "source": [
    "!behave ./features > test_output.txt"
   ]
  },
  {
   "cell_type": "markdown",
   "metadata": {},
   "source": [
    "Abriremos o <em>txt</em>, e através do método <em>readlines</em> teremos uma lista com todas linhas do arquivo. Em seguida deletamos o <em>txt</em>."
   ]
  },
  {
   "cell_type": "code",
   "execution_count": 8,
   "metadata": {},
   "outputs": [],
   "source": [
    "with open('test_output.txt') as f:\n",
    "    data = f.readlines()\n",
    "\n",
    "!rm test_output.txt"
   ]
  },
  {
   "cell_type": "markdown",
   "metadata": {},
   "source": [
    "Declaramos uma classe para nos auxiliar com a formatação do que será exibido."
   ]
  },
  {
   "cell_type": "code",
   "execution_count": 9,
   "metadata": {},
   "outputs": [],
   "source": [
    "class Color:\n",
    "   PURPLE = '\\033[95m'\n",
    "   CYAN = '\\033[96m'\n",
    "   DARKCYAN = '\\033[36m'\n",
    "   BLUE = '\\033[94m'\n",
    "   GREEN = '\\033[92m'\n",
    "   YELLOW = '\\033[93m'\n",
    "   RED = '\\033[91m'\n",
    "   BOLD = '\\033[1m'\n",
    "   UNDERLINE = '\\033[4m'\n",
    "   RESET = '\\033[0m'"
   ]
  },
  {
   "cell_type": "markdown",
   "metadata": {},
   "source": [
    "Fazemos um loop pela da lista que contém as linhas do <em>txt</em>. Ao encontrar a string <em>'passed'</em>, colocaremos: \n",
    "- passed em verde e negrito, \n",
    "- failed em vermelho e negrito, \n",
    "- skipped em amarelo e negrito, "
   ]
  },
  {
   "cell_type": "code",
   "execution_count": 10,
   "metadata": {},
   "outputs": [
    {
     "name": "stdout",
     "output_type": "stream",
     "text": [
      "Funcionalidade: Checar título na página do Google # features/google.feature:3\n",
      "\n",
      "\n",
      "\n",
      "  Cenário: Na página do google deverá ter Google no título       # features/google.feature:5\n",
      "\n",
      "    Dado que o usuário acesse a página \"https://www.google.com/\" # features/steps/google.py:4\n",
      "\n",
      "    Então a palavra \"Google\" deverá estar no título              # features/steps/google.py:9\n",
      "\n",
      "\n",
      "\n",
      "  Cenário: Ao buscar por Teste no Google, deveremos ter Teste no título  # features/google.feature:9\n",
      "\n",
      "    Dado que o usuário acesse a página \"https://www.google.com/\"         # features/steps/google.py:4\n",
      "\n",
      "    Quando inserir a palavra \"Teste\"                                     # features/steps/google.py:13\n",
      "\n",
      "    Então a palavra \"Teste\" deverá estar no título                       # features/steps/google.py:9\n",
      "\n",
      "\n",
      "\n",
      "\u001b[1m\u001b[92m1 feature passed, \u001b[91m 0 failed, \u001b[93m 0 skipped\n",
      "\u001b[0m\n",
      "\u001b[1m\u001b[92m2 scenarios passed, \u001b[91m 0 failed, \u001b[93m 0 skipped\n",
      "\u001b[0m\n",
      "\u001b[1m\u001b[92m5 steps passed, \u001b[91m 0 failed, \u001b[93m 0 skipped\u001b[0m\n",
      "Took 0m6.193s\n",
      "\n"
     ]
    }
   ],
   "source": [
    "for row in data:\n",
    "    if 'passed' in row:\n",
    "        words = row.split(',')\n",
    "        row = \"{}{}{}, {}{}, {}{}{}\".format(Color.BOLD, Color.GREEN, words[0], Color.RED, words[1], Color.YELLOW, words[2], Color.RESET)\n",
    "    print(row)"
   ]
  },
  {
   "cell_type": "code",
   "execution_count": null,
   "metadata": {},
   "outputs": [],
   "source": []
  }
 ],
 "metadata": {
  "kernelspec": {
   "display_name": "Python 3",
   "language": "python",
   "name": "python3"
  },
  "language_info": {
   "codemirror_mode": {
    "name": "ipython",
    "version": 3
   },
   "file_extension": ".py",
   "mimetype": "text/x-python",
   "name": "python",
   "nbconvert_exporter": "python",
   "pygments_lexer": "ipython3",
   "version": "3.6.6"
  }
 },
 "nbformat": 4,
 "nbformat_minor": 2
}

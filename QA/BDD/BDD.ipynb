{
 "cells": [
  {
   "cell_type": "markdown",
   "metadata": {},
   "source": [
    "# Criando a estrutura de diretórios\n",
    "Cria a estrutura de diretórios do [Behave](https://behave.readthedocs.io/en/latest/)\n",
    "```\n",
    ".\n",
    "│\n",
    "└───features\n",
    "    │\n",
    "    └───steps\n",
    "```\n",
    "Onde no diretório <font color='green'>features</font> teremos o arquivo de configuração do ambiente e também os arquivos <em>.feature</em> (que são escritos em [Gherkin](https://www.linkedin.com/pulse/gherkin-comunica%C3%A7%C3%A3o-atrav%C3%A9s-de-um-vocabul%C3%A1rio-e-o-marcus-vin%C3%ADcius/)).\n",
    "Em <font color='green'>steps</font> escreveremos o código python que executará os passos descritos nos arquivos <em>.feature</em>."
   ]
  },
  {
   "cell_type": "code",
   "execution_count": 1,
   "metadata": {},
   "outputs": [],
   "source": [
    "!mkdir -p features/steps"
   ]
  },
  {
   "cell_type": "markdown",
   "metadata": {},
   "source": [
    "# Configurando o ambiente para o behave\n",
    "```\n",
    ".\n",
    "│\n",
    "└───features\n",
    "    └───environment.py\n",
    "    │\n",
    "    └───steps\n",
    "```\n",
    "No arquivo <font color='green'>environment.py</font> faremos as configurações de ambiente necessárias para execução dos testes. Em <em>before_all</em> faremos os setup dos testes e no <em>after_all</em> faremos o tear-down.\n",
    "\n",
    "<strong>Obs:</strong> <em>%%writefile</em> é um [comando mágico](https://ipython.readthedocs.io/en/stable/interactive/magics.html#cellmagic-writefile) do [IPython](https://ipython.readthedocs.io/en/stable/overview.html) para escrever um arquivo."
   ]
  },
  {
   "cell_type": "code",
   "execution_count": 2,
   "metadata": {},
   "outputs": [
    {
     "name": "stdout",
     "output_type": "stream",
     "text": [
      "Overwriting ./features/environment.py\n"
     ]
    }
   ],
   "source": [
    "%%writefile ./features/environment.py\n",
    "from selenium import webdriver\n",
    "\n",
    "def before_all(context):\n",
    "    context.browser = webdriver.Chrome()\n",
    "\n",
    "def after_all(context):\n",
    "    context.browser.quit()\n",
    "    "
   ]
  },
  {
   "cell_type": "markdown",
   "metadata": {},
   "source": [
    "# Escrevendo o cenário 1 em Gherkin\n",
    "```\n",
    ".\n",
    "│\n",
    "└───features\n",
    "    └───environment.py\n",
    "    └───google.feature\n",
    "    │\n",
    "    └───steps\n",
    "```\n",
    "Escreveremos o cenário de teste para a funcionalidade, nesse caso o cenário é checar se a palavra <em>Google</em> está na barra de título do browser."
   ]
  },
  {
   "cell_type": "code",
   "execution_count": 3,
   "metadata": {},
   "outputs": [
    {
     "name": "stdout",
     "output_type": "stream",
     "text": [
      "Overwriting ./features/google.feature\n"
     ]
    }
   ],
   "source": [
    "%%writefile ./features/google.feature\n",
    "# language:pt\n",
    "\n",
    "Funcionalidade: Checar título na página do Google\n",
    "\n",
    "    Cenário: Na página do google deverá ter Google no título\n",
    "      Dado que o usuário acesse a página \"https://www.google.com/\"\n",
    "      Então a palavra \"Google\" deverá estar no título\n"
   ]
  },
  {
   "cell_type": "markdown",
   "metadata": {},
   "source": [
    "# Escrevendo o cenário 2 em Gherkin\n",
    "Nesse cenário, vamos checar se ao fazer uma busca pela palavra <em>Teste</em>, essa palavra deverá aparecer na barra de título do browser.\n",
    "\n",
    "<strong>Obs:</strong> Quando acrescentamos <em>-a</em> no comando <em>%%writefile</em>, o conteúdo da célula será adicionado ao final do arquivo."
   ]
  },
  {
   "cell_type": "code",
   "execution_count": 4,
   "metadata": {},
   "outputs": [
    {
     "name": "stdout",
     "output_type": "stream",
     "text": [
      "Appending to ./features/google.feature\n"
     ]
    }
   ],
   "source": [
    "%%writefile -a ./features/google.feature\n",
    "\n",
    "    Cenário: Ao buscar por Teste no Google, deveremos ter Teste no título\n",
    "      Dado que o usuário acesse a página \"https://www.google.com/\"\n",
    "      Quando inserir a palavra \"Teste\"\n",
    "      Então a palavra \"Teste\" deverá estar no título\n"
   ]
  },
  {
   "cell_type": "markdown",
   "metadata": {},
   "source": [
    "# Criando o cenário 1 no behave\n",
    "```\n",
    ".\n",
    "│\n",
    "└───features\n",
    "    └───environment.py\n",
    "    └───google.feature\n",
    "    │\n",
    "    └───steps\n",
    "        └───google.py\n",
    "```\n",
    "Agora implementaremos em python os passos descritos em <em>google.feature</em>, para o primeiro cenário."
   ]
  },
  {
   "cell_type": "code",
   "execution_count": 5,
   "metadata": {},
   "outputs": [
    {
     "name": "stdout",
     "output_type": "stream",
     "text": [
      "Overwriting ./features/steps/google.py\n"
     ]
    }
   ],
   "source": [
    "%%writefile ./features/steps/google.py\n",
    "from behave import given, then, when\n",
    "from selenium.webdriver.common.keys import Keys\n",
    "\n",
    "@given('que o usuário acesse a página \"{link}\"')\n",
    "def acessa_link(context, link):\n",
    "    context.browser.get(link)\n",
    "\n",
    "\n",
    "@then('a palavra \"{msg}\" deverá estar no título')\n",
    "def checa_titulo(context, msg):\n",
    "    assert msg in context.browser.title\n",
    "    "
   ]
  },
  {
   "cell_type": "markdown",
   "metadata": {},
   "source": [
    "# Criando o cenário 2 no behave\n",
    "Implementando os passos descritos em <em>google.feature</em>, para o segundo cenário."
   ]
  },
  {
   "cell_type": "code",
   "execution_count": 6,
   "metadata": {},
   "outputs": [
    {
     "name": "stdout",
     "output_type": "stream",
     "text": [
      "Appending to ./features/steps/google.py\n"
     ]
    }
   ],
   "source": [
    "%%writefile -a ./features/steps/google.py\n",
    "@when('inserir a palavra \"{palavra}\"')\n",
    "def checa_titulo(context, palavra):\n",
    "    element = context.browser.find_element_by_id('lst-ib')\n",
    "    element.send_keys(palavra + Keys.RETURN)\n",
    "    assert context.browser.title.startswith(palavra)\n"
   ]
  },
  {
   "cell_type": "markdown",
   "metadata": {},
   "source": [
    "# Rodando os testes \n",
    "Colocamos <strong>!</strong> para executar um comando shell.\n",
    "Para rodar os testes do behave, basta digitar comando <strong>behave</strong> seguido do caminho para o diretório <em>features</em>.\n",
    "No caso abaixo, acrescentamos <strong>--junit</strong> para gerar um relatório. Podemos atribuir o texto que seria exibido no terminal, para uma variável."
   ]
  },
  {
   "cell_type": "code",
   "execution_count": 7,
   "metadata": {},
   "outputs": [
    {
     "name": "stdout",
     "output_type": "stream",
     "text": [
      "Funcionalidade: Checar título na página do Google\u001b[90m # features/google.feature:3\u001b[0m\n",
      "\n",
      "  Cenário: Na página do google deverá ter Google no título \u001b[90m      # features/google.feature:5\u001b[0m\n",
      "    \u001b[90mDado \u001b[0m\u001b[90mque o usuário acesse a página \"\u001b[0m\u001b[90m\u001b[1mhttps://www.google.com/\u001b[0m\u001b[90m\"\u001b[0m\u001b[90m # features/steps/google.py:4\u001b[0m\n",
      "\u001b[2A    \u001b[32mDado \u001b[0m\u001b[32mque o usuário acesse a página \"\u001b[0m\u001b[32m\u001b[1mhttps://www.google.com/\u001b[0m\u001b[32m\"\u001b[0m\u001b[90m # features/steps/google.py:4 2.573s\u001b[0m\n",
      "    \u001b[90mEntão \u001b[0m\u001b[90ma palavra \"\u001b[0m\u001b[90m\u001b[1mGoogle\u001b[0m\u001b[90m\" deverá estar no título\u001b[0m\u001b[90m              # features/steps/google.py:9\u001b[0m\n",
      "\u001b[2A    \u001b[32mEntão \u001b[0m\u001b[32ma palavra \"\u001b[0m\u001b[32m\u001b[1mGoogle\u001b[0m\u001b[32m\" deverá estar no título\u001b[0m\u001b[90m              # features/steps/google.py:9 0.005s\u001b[0m\n",
      "\n",
      "  Cenário: Ao buscar por Teste no Google, deveremos ter Teste no título \u001b[90m # features/google.feature:9\u001b[0m\n",
      "    \u001b[90mDado \u001b[0m\u001b[90mque o usuário acesse a página \"\u001b[0m\u001b[90m\u001b[1mhttps://www.google.com/\u001b[0m\u001b[90m\"\u001b[0m\u001b[90m         # features/steps/google.py:4\u001b[0m\n",
      "\u001b[2A    \u001b[32mDado \u001b[0m\u001b[32mque o usuário acesse a página \"\u001b[0m\u001b[32m\u001b[1mhttps://www.google.com/\u001b[0m\u001b[32m\"\u001b[0m\u001b[90m         # features/steps/google.py:4 0.419s\u001b[0m\n",
      "    \u001b[90mQuando \u001b[0m\u001b[90minserir a palavra \"\u001b[0m\u001b[90m\u001b[1mTeste\u001b[0m\u001b[90m\"\u001b[0m\u001b[90m                                     # features/steps/google.py:13\u001b[0m\n",
      "\u001b[2A    \u001b[32mQuando \u001b[0m\u001b[32minserir a palavra \"\u001b[0m\u001b[32m\u001b[1mTeste\u001b[0m\u001b[32m\"\u001b[0m\u001b[90m                                     # features/steps/google.py:13 1.468s\u001b[0m\n",
      "    \u001b[90mEntão \u001b[0m\u001b[90ma palavra \"\u001b[0m\u001b[90m\u001b[1mTeste\u001b[0m\u001b[90m\" deverá estar no título\u001b[0m\u001b[90m                       # features/steps/google.py:9\u001b[0m\n",
      "\u001b[2A    \u001b[32mEntão \u001b[0m\u001b[32ma palavra \"\u001b[0m\u001b[32m\u001b[1mTeste\u001b[0m\u001b[32m\" deverá estar no título\u001b[0m\u001b[90m                       # features/steps/google.py:9 0.005s\u001b[0m\n",
      "\n",
      "1 feature passed, 0 failed, 0 skipped\n",
      "2 scenarios passed, 0 failed, 0 skipped\n",
      "5 steps passed, 0 failed, 0 skipped, 0 undefined\n",
      "Took 0m4.469s\n"
     ]
    }
   ],
   "source": [
    "!behave --junit ./features"
   ]
  },
  {
   "cell_type": "markdown",
   "metadata": {},
   "source": [
    "Convertemos o relatório de <strong>xml</strong> para <strong>html</strong>."
   ]
  },
  {
   "cell_type": "code",
   "execution_count": 8,
   "metadata": {},
   "outputs": [],
   "source": [
    "!junit2html ./reports/TESTS-google.xml test_google.html"
   ]
  },
  {
   "cell_type": "markdown",
   "metadata": {},
   "source": [
    "Exibimos o relatório <strong>html</strong>."
   ]
  },
  {
   "cell_type": "code",
   "execution_count": 9,
   "metadata": {},
   "outputs": [
    {
     "data": {
      "text/html": [
       "\n",
       "        <html>\n",
       "        <head>\n",
       "            <title>./reports/TESTS-google.xml - Junit Test Report</title>\n",
       "            <style type=\"text/css\">\n",
       "              h1 {\n",
       "    font-family: sans-serif;\n",
       "}\n",
       "h2 {\n",
       "    font-family: sans-serif;\n",
       "}\n",
       "\n",
       "li > a {\n",
       "    font-family: monospace;\n",
       "}\n",
       "\n",
       "body {\n",
       "    margin-bottom: 3em;\n",
       "}\n",
       "\n",
       ".testclass > td {\n",
       "    border-bottom: 1px solid silver;\n",
       "    color: #222222;\n",
       "    padding: 3px;\n",
       "    font-weight: bold;\n",
       "}\n",
       "\n",
       ".testclass > div {\n",
       "    padding-left: 1em;\n",
       "}\n",
       "\n",
       ".testclass > a > div {\n",
       "    font-size: 1.3em;\n",
       "    font-family: sans-serif;\n",
       "}\n",
       "\n",
       ".testcase > div {\n",
       "    border-left: 3px solid black;\n",
       "    padding-left: 1em;\n",
       "}\n",
       "\n",
       ".testcase pre {\n",
       "    display: block;\n",
       "    padding: 4px;\n",
       "    margin-right: 1em;\n",
       "    background-color: #121212;\n",
       "    color: #dedede;\n",
       "    white-space: pre-wrap;\n",
       "}\n",
       "\n",
       ".testcase .details b {\n",
       "    font-size: 1.2em;\n",
       "}\n",
       "\n",
       ".stdout, .stderr, .property {\n",
       "    margin-left: 1em;\n",
       "}\n",
       "\n",
       ".testcase-link {\n",
       "    text-decoration: none;\n",
       "}\n",
       "\n",
       ".testcase-cell {\n",
       "    height: 1.8em;\n",
       "    width: 1.8em;\n",
       "    vertical-align: middle;\n",
       "    text-align: center;\n",
       "}\n",
       ".testcase-cell a {\n",
       "    display: inline-block;\n",
       "    margin: -1em;\n",
       "    padding: 1em;\n",
       "}\n",
       "\n",
       ".testcase-combined {\n",
       "    white-space: pre;\n",
       "    padding-left: 1em;\n",
       "}\n",
       "\n",
       ".skipped {\n",
       "    background-color: gold;\n",
       "}\n",
       "\n",
       ".failed {\n",
       "    background-color: lightcoral;\n",
       "}\n",
       "\n",
       ".passed {\n",
       "    background-color: limegreen;\n",
       "}\n",
       "\n",
       ".tooltip {\n",
       "    visibility: hidden;\n",
       "    padding: 2px;\n",
       "    z-index: 1;\n",
       "    position: absolute;\n",
       "    background: cornsilk;\n",
       "    border: 1px solid black;\n",
       "    margin-top: 15px;\n",
       "    margin-left: 10px;\n",
       "    opacity: 0;\n",
       "}\n",
       ".tooltip-parent:hover .tooltip {\n",
       "    visibility: visible;\n",
       "    opacity: 1;\n",
       "}\n",
       "\n",
       ".testcase:hover {\n",
       "    background-color: gray;\n",
       "    color: white;\n",
       "}\n",
       "\n",
       ".result-stats {\n",
       "    margin: auto;\n",
       "}\n",
       "\n",
       "            </style>\n",
       "        </head><body><h1>Test Report</h1>\n",
       "        <div class=\"testsuite\">\n",
       "            <h2>Test Suite: google.Checar título na página do Google</h2><a name=\"477b0049-1b70-4cb2-8c38-41c9100f43d6\">\n",
       "            \n",
       "            \n",
       "            <table>\n",
       "            <tr><th align=\"left\">Duration</th><td align=\"right\">4.279204 sec</td></tr>\n",
       "            <tr><th align=\"left\">Test Cases</th><td align=\"right\">2</td></tr>\n",
       "            <tr><th align=\"left\">Failures</th><td align=\"right\">0</td></tr>\n",
       "            \n",
       "            \n",
       "            </table>\n",
       "            <a name=\"toc\"></a>\n",
       "            <h2>Results Index</h2>\n",
       "            \n",
       "        <ul>\n",
       "            \n",
       "            \n",
       "            <li>All Test Classes\n",
       "            <ul>\n",
       "            <li>\n",
       "                <a href=\"#e635a17e-8667-4f62-9399-706b91f1c3ab\">google.Checar título na página do Google</a>\n",
       "                <ul>\n",
       "                \n",
       "                    <li>\n",
       "                        <a href=\"#4ab73e92-4c9d-487d-9a33-78490f4a66ee\">Na página do google deverá ter Google no título</a>\n",
       "                    </li>\n",
       "                    \n",
       "                    <li>\n",
       "                        <a href=\"#2fbae710-b26a-4ff0-aa46-68a1c21b7ed4\">Ao buscar por Teste no Google, deveremos ter Teste no título</a>\n",
       "                    </li>\n",
       "                    \n",
       "                </ul>\n",
       "            </li>\n",
       "            </ul>\n",
       "            </li>\n",
       "        </ul>\n",
       "        \n",
       "            <hr size=\"2\"/>\n",
       "            <h2>Test Results</h2>\n",
       "            <div class=\"testclasses\">\n",
       "            \n",
       "        <hr size=\"2\"/>\n",
       "        <a name=\"e635a17e-8667-4f62-9399-706b91f1c3ab\">\n",
       "        <div class=\"testclass\">\n",
       "            <div>Test Class: google.Checar título na página do Google</div>\n",
       "            <div class=\"testcases\">\n",
       "            \n",
       "    <a name=\"4ab73e92-4c9d-487d-9a33-78490f4a66ee\">\n",
       "        <div class=\"testcase\">\n",
       "            <div class=\"details\">\n",
       "                <span class=\"testname\"><b>Na página do google deverá ter Google no título</b></span><br/>\n",
       "                <span class=\"testclassname\">google.Checar título na página do Google</span><br/>\n",
       "                <span class=\"duration\">Time Taken: 2.500046s</span>\n",
       "            </div>\n",
       "            \n",
       "            \n",
       "            <hr size=\"1\"/>\n",
       "            \n",
       "            \n",
       "            <div class=\"stdout\"><i>Stdout</i><br/>\n",
       "                <pre>\n",
       "\n",
       "@scenario.begin\n",
       "  Cenário: Na página do google deverá ter Google no título\n",
       "    Dado que o usuário acesse a página \"https://www.google.com/\" ... passed in 2.493s\n",
       "    Então a palavra \"Google\" deverá estar no título ... passed in 0.007s\n",
       "\n",
       "@scenario.end\n",
       "--------------------------------------------------------------------------------\n",
       "\n",
       "</pre></div>\n",
       "            <hr size=\"1\"/>\n",
       "            <div class=\"stderr\"><i>Stderr</i><br/>\n",
       "                <pre></pre></div>\n",
       "                \n",
       "        </div>\n",
       "    </a>\n",
       "        \n",
       "    <a name=\"2fbae710-b26a-4ff0-aa46-68a1c21b7ed4\">\n",
       "        <div class=\"testcase\">\n",
       "            <div class=\"details\">\n",
       "                <span class=\"testname\"><b>Ao buscar por Teste no Google, deveremos ter Teste no título</b></span><br/>\n",
       "                <span class=\"testclassname\">google.Checar título na página do Google</span><br/>\n",
       "                <span class=\"duration\">Time Taken: 1.779158s</span>\n",
       "            </div>\n",
       "            \n",
       "            \n",
       "            <hr size=\"1\"/>\n",
       "            \n",
       "            \n",
       "            <div class=\"stdout\"><i>Stdout</i><br/>\n",
       "                <pre>\n",
       "\n",
       "@scenario.begin\n",
       "  Cenário: Ao buscar por Teste no Google, deveremos ter Teste no título\n",
       "    Dado que o usuário acesse a página \"https://www.google.com/\" ... passed in 0.415s\n",
       "    Quando inserir a palavra \"Teste\" ... passed in 1.360s\n",
       "    Então a palavra \"Teste\" deverá estar no título ... passed in 0.004s\n",
       "\n",
       "@scenario.end\n",
       "--------------------------------------------------------------------------------\n",
       "\n",
       "</pre></div>\n",
       "            <hr size=\"1\"/>\n",
       "            <div class=\"stderr\"><i>Stderr</i><br/>\n",
       "                <pre></pre></div>\n",
       "                \n",
       "        </div>\n",
       "    </a>\n",
       "        \n",
       "            </div>\n",
       "        </div>\n",
       "        </a>\n",
       "        \n",
       "            </div>\n",
       "        </div>\n",
       "        </body></html>"
      ],
      "text/plain": [
       "<IPython.core.display.HTML object>"
      ]
     },
     "metadata": {},
     "output_type": "display_data"
    }
   ],
   "source": [
    "from IPython.core.display import display, HTML\n",
    "display(HTML('./reports/test_google.html'))"
   ]
  },
  {
   "cell_type": "markdown",
   "metadata": {},
   "source": [
    "## Interação jupyter e shell"
   ]
  },
  {
   "cell_type": "markdown",
   "metadata": {},
   "source": [
    "A ideia é mostrar que podemos usar dados que seriam exibidos no terminal, de uma maneira mais visual\n",
    "***"
   ]
  },
  {
   "cell_type": "markdown",
   "metadata": {},
   "source": [
    "Podemos redirecionar a saída de um comando para uma variável"
   ]
  },
  {
   "cell_type": "code",
   "execution_count": 10,
   "metadata": {},
   "outputs": [],
   "source": [
    "resultado = !behave --junit ./features"
   ]
  },
  {
   "cell_type": "markdown",
   "metadata": {},
   "source": [
    "Declaramos uma classe para nos auxiliar com a formatação do que será exibido."
   ]
  },
  {
   "cell_type": "code",
   "execution_count": 11,
   "metadata": {},
   "outputs": [],
   "source": [
    "class Color:\n",
    "   PURPLE = '\\033[95m'\n",
    "   CYAN = '\\033[96m'\n",
    "   DARKCYAN = '\\033[36m'\n",
    "   BLUE = '\\033[94m'\n",
    "   GREEN = '\\033[92m'\n",
    "   YELLOW = '\\033[93m'\n",
    "   RED = '\\033[91m'\n",
    "   BOLD = '\\033[1m'\n",
    "   UNDERLINE = '\\033[4m'\n",
    "   RESET = '\\033[0m'"
   ]
  },
  {
   "cell_type": "markdown",
   "metadata": {},
   "source": [
    "Fazemos um loop pela da lista que contém as linhas do resultado. Ao encontrar a string <em>'passed'</em>, colocaremos: \n",
    "- passed em verde e negrito, \n",
    "- failed em vermelho e negrito, \n",
    "- skipped em amarelo e negrito, "
   ]
  },
  {
   "cell_type": "code",
   "execution_count": 12,
   "metadata": {},
   "outputs": [
    {
     "name": "stdout",
     "output_type": "stream",
     "text": [
      "Funcionalidade: Checar título na página do Google # features/google.feature:3\n",
      "\n",
      "  Cenário: Na página do google deverá ter Google no título       # features/google.feature:5\n",
      "    Dado que o usuário acesse a página \"https://www.google.com/\" # features/steps/google.py:4\n",
      "    Então a palavra \"Google\" deverá estar no título              # features/steps/google.py:9\n",
      "\n",
      "  Cenário: Ao buscar por Teste no Google, deveremos ter Teste no título  # features/google.feature:9\n",
      "    Dado que o usuário acesse a página \"https://www.google.com/\"         # features/steps/google.py:4\n",
      "    Quando inserir a palavra \"Teste\"                                     # features/steps/google.py:13\n",
      "    Então a palavra \"Teste\" deverá estar no título                       # features/steps/google.py:9\n",
      "\n",
      "\u001b[1m\u001b[92m1 feature passed, \u001b[91m 0 failed, \u001b[93m 0 skipped\u001b[0m\n",
      "\u001b[1m\u001b[92m2 scenarios passed, \u001b[91m 0 failed, \u001b[93m 0 skipped\u001b[0m\n",
      "\u001b[1m\u001b[92m5 steps passed, \u001b[91m 0 failed, \u001b[93m 0 skipped\u001b[0m\n",
      "Took 0m4.208s\n"
     ]
    }
   ],
   "source": [
    "stats = []\n",
    "\n",
    "for row in resultado:\n",
    "    if 'passed' in row:\n",
    "        passed, failed, *skipped = row.split(',')\n",
    "        skipped = skipped[0]\n",
    "        stats.append((passed, failed, skipped))\n",
    "        row = \"{}{}{}, {}{}, {}{}{}\".format(\n",
    "            Color.BOLD, Color.GREEN, passed, Color.RED, failed, Color.YELLOW, skipped, Color.RESET)\n",
    "    print(row)"
   ]
  },
  {
   "cell_type": "markdown",
   "metadata": {},
   "source": [
    "Com os dados capturados no loop anterior, calcularemos a porcentagem de sucesso"
   ]
  },
  {
   "cell_type": "code",
   "execution_count": 13,
   "metadata": {},
   "outputs": [
    {
     "name": "stdout",
     "output_type": "stream",
     "text": [
      "Feature : 100.0% passed\n",
      "Scenarios : 100.0% passed\n",
      "Steps : 100.0% passed\n"
     ]
    }
   ],
   "source": [
    "for passed, failed, skipped in stats:\n",
    "    \n",
    "    name = passed.split()[1]\n",
    "    total = int(passed[0]) + int(failed[1]) + int(skipped[1])\n",
    "    success = (int(passed[0]) / total) * 100\n",
    "    print('{} : {}% passed'.format(name.title(), success))"
   ]
  },
  {
   "cell_type": "markdown",
   "metadata": {},
   "source": [
    "De acordo com a porcentagem, definimos o deploy"
   ]
  },
  {
   "cell_type": "code",
   "execution_count": 14,
   "metadata": {},
   "outputs": [
    {
     "data": {
      "text/html": [
       "<font size=8 color='green'>Deploy Aprovado!</font>"
      ],
      "text/plain": [
       "<IPython.core.display.HTML object>"
      ]
     },
     "metadata": {},
     "output_type": "display_data"
    }
   ],
   "source": [
    "if success > 90:\n",
    "    deploy_status = \"<font size=8 color='green'>Deploy Aprovado!</font>\"\n",
    "elif success > 70:\n",
    "    deploy_status = \"<font size=8 color='yellow'>Deploy a ser avaliado</font>\"\n",
    "else:\n",
    "    deploy_status = \"<font size=8 color='red'>Deploy Reprovado!</font>\"\n",
    "\n",
    "display(HTML('{}'.format(deploy_status)))"
   ]
  },
  {
   "cell_type": "code",
   "execution_count": null,
   "metadata": {},
   "outputs": [],
   "source": []
  }
 ],
 "metadata": {
  "kernelspec": {
   "display_name": "Python 3",
   "language": "python",
   "name": "python3"
  },
  "language_info": {
   "codemirror_mode": {
    "name": "ipython",
    "version": 3
   },
   "file_extension": ".py",
   "mimetype": "text/x-python",
   "name": "python",
   "nbconvert_exporter": "python",
   "pygments_lexer": "ipython3",
   "version": "3.6.6"
  }
 },
 "nbformat": 4,
 "nbformat_minor": 2
}

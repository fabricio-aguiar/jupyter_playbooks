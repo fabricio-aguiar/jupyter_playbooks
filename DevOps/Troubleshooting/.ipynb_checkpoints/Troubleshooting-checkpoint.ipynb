{
 "cells": [
  {
   "cell_type": "markdown",
   "metadata": {},
   "source": [
    "# Troubleshooting"
   ]
  },
  {
   "cell_type": "markdown",
   "metadata": {},
   "source": [
    "Jupyter notebooks podem ser usados no diagnóstico e solução de problemas, através da descrição dos passos a serem seguidos, juntamente com os comandos a serem executados."
   ]
  },
  {
   "cell_type": "markdown",
   "metadata": {},
   "source": [
    "**Exemplo:** Usuários tentando acessar arquivos no S3, mas estão recebendo: \"HTTP 403: Access Denied.\"\n",
    "https://aws.amazon.com/pt/premiumsupport/knowledge-center/s3-troubleshoot-403/\n",
    "***"
   ]
  },
  {
   "cell_type": "markdown",
   "metadata": {},
   "source": [
    "**Obs:** Ao colocar <font color='red'>!</font> na frente, os comandos serão executados no shell."
   ]
  },
  {
   "cell_type": "markdown",
   "metadata": {},
   "source": [
    "## - Checar permissões"
   ]
  },
  {
   "cell_type": "markdown",
   "metadata": {},
   "source": [
    "1. Pegar o canonical ID da sua conta AWS"
   ]
  },
  {
   "cell_type": "code",
   "execution_count": null,
   "metadata": {},
   "outputs": [],
   "source": [
    "!aws s3api list-buckets --query Owner.ID"
   ]
  },
  {
   "cell_type": "markdown",
   "metadata": {},
   "source": [
    "2. Pegar o canonical ID do dono do arquivo"
   ]
  },
  {
   "cell_type": "code",
   "execution_count": null,
   "metadata": {},
   "outputs": [],
   "source": [
    "!aws s3api list-objects --bucket example-bucket --prefix index.html"
   ]
  },
  {
   "cell_type": "markdown",
   "metadata": {},
   "source": [
    "3. Se os IDs não forem iguais, o bucket e o arquivo são de donos diferentes"
   ]
  },
  {
   "cell_type": "markdown",
   "metadata": {},
   "source": [
    "Você pode dar permissões de dono para o arquivo com um desses comandos"
   ]
  },
  {
   "cell_type": "code",
   "execution_count": null,
   "metadata": {},
   "outputs": [],
   "source": [
    "!aws s3 cp test.jpg s3://bucketname --acl bucket-owner-full-control"
   ]
  },
  {
   "cell_type": "code",
   "execution_count": null,
   "metadata": {},
   "outputs": [],
   "source": [
    "!ws s3api put-object-acl --bucket bucket-name --key object-name --acl bucket-owner-full-control"
   ]
  },
  {
   "cell_type": "markdown",
   "metadata": {},
   "source": [
    "## Referências "
   ]
  },
  {
   "cell_type": "markdown",
   "metadata": {},
   "source": [
    "* Artigo mostrando como jupyter pode ser usado como runbook:<br>\n",
    "https://blog.amirathi.com/2018/03/27/codify-infra-runbooks-with-jupyter-style-notebook/<br><br>\n",
    "* Artigo falando da vantagem de o DevOps usar a mesma ferramenta que o Dev utiliza<br>\n",
    "https://medium.com/@guyernest/using-jupyter-notebooks-as-your-cloud-ide-for-devops-a49c03e5cb3f"
   ]
  },
  {
   "cell_type": "code",
   "execution_count": null,
   "metadata": {},
   "outputs": [],
   "source": []
  }
 ],
 "metadata": {
  "kernelspec": {
   "display_name": "Python 3",
   "language": "python",
   "name": "python3"
  },
  "language_info": {
   "codemirror_mode": {
    "name": "ipython",
    "version": 3
   },
   "file_extension": ".py",
   "mimetype": "text/x-python",
   "name": "python",
   "nbconvert_exporter": "python",
   "pygments_lexer": "ipython3",
   "version": "3.6.6"
  }
 },
 "nbformat": 4,
 "nbformat_minor": 2
}

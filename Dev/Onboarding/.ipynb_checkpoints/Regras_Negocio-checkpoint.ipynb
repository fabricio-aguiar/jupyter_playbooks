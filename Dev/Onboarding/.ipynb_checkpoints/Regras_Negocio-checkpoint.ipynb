{
 "cells": [
  {
   "cell_type": "markdown",
   "metadata": {},
   "source": [
    "# Onboarding"
   ]
  },
  {
   "cell_type": "markdown",
   "metadata": {},
   "source": [
    "<font color='red'>Jupyter notebooks podem ser úteis no onboarding, ao documentar conceitos e regras de negócio. Diminuindo a curva de aprendizado do(a) desenvoldor(a). Abaixo temos um exemplo de um oboarding de conceitos financeiros.</font>\n",
    "***"
   ]
  },
  {
   "cell_type": "markdown",
   "metadata": {},
   "source": [
    "## Conceitos financeiros"
   ]
  },
  {
   "cell_type": "markdown",
   "metadata": {},
   "source": [
    "- ### Juros Simples (Simple Interest)\n",
    "Juros simples é um acréscimo calculado sobre o valor inicial de um aplicação financeira ou de uma compra feita a crédito, por exemplo.\n",
    "\n",
    "**Fórmula:**\n",
    "\n",
    "$$M = C\\times (1 + i\\times t)$$\n",
    "\n",
    "**Onde:**\n",
    "\n",
    "M: montante<br/>\n",
    "C: capital<br/>\n",
    "i: taxa de juros<br/>\n",
    "t: tempo de aplicação"
   ]
  },
  {
   "cell_type": "code",
   "execution_count": 1,
   "metadata": {},
   "outputs": [
    {
     "data": {
      "application/vnd.jupyter.widget-view+json": {
       "model_id": "6c00c700b0f64ac2bb12d860741019b2",
       "version_major": 2,
       "version_minor": 0
      },
      "text/plain": [
       "interactive(children=(FloatSlider(value=100.0, description='capital', max=300.0, min=-100.0), FloatSlider(valu…"
      ]
     },
     "metadata": {},
     "output_type": "display_data"
    }
   ],
   "source": [
    "from ipywidgets import interact\n",
    "\n",
    "@interact\n",
    "def juros_simples(capital=100.0, taxa=0.2, tempo=5):\n",
    "    montante = capital * (1.0 + taxa * tempo)\n",
    "    return \"     Montante = %.2f\" % montante"
   ]
  },
  {
   "cell_type": "markdown",
   "metadata": {},
   "source": [
    "- ### Juros Compostos (Compound Interest)\n",
    "Os juros compostos são a prática de juros sobre juros. Eles são muito utilizados pelo sistema financeiro, pois oferecem maior rentabilidade se comparados ao juro simples.\n",
    "\n",
    "**Fórmula:**\n",
    "\n",
    "$$M = C\\times (1 + i)^t$$\n",
    "\n",
    "**Onde:**\n",
    "\n",
    "M: montante<br/>\n",
    "C: capital<br/>\n",
    "i: taxa de juros<br/>\n",
    "t: tempo de aplicação"
   ]
  },
  {
   "cell_type": "code",
   "execution_count": 2,
   "metadata": {},
   "outputs": [
    {
     "data": {
      "application/vnd.jupyter.widget-view+json": {
       "model_id": "6ff48d38e220450d85ac204b0158175f",
       "version_major": 2,
       "version_minor": 0
      },
      "text/plain": [
       "interactive(children=(FloatSlider(value=100.0, description='capital', max=300.0, min=-100.0), FloatSlider(valu…"
      ]
     },
     "metadata": {},
     "output_type": "display_data"
    }
   ],
   "source": [
    "@interact\n",
    "def juros_compostos(capital=100.0, taxa=0.2, tempo=5):\n",
    "    montante = capital * (1.0 + taxa)**tempo\n",
    "    return \"     Montante = %.2f\" % montante"
   ]
  },
  {
   "cell_type": "markdown",
   "metadata": {},
   "source": [
    "## Juros Simples x Juros Compostos"
   ]
  },
  {
   "cell_type": "code",
   "execution_count": 3,
   "metadata": {},
   "outputs": [],
   "source": [
    "import matplotlib.pyplot as plt\n",
    "\n",
    "def gera_grafico(capital, taxa, tempo, calculo, cor='red'):\n",
    "    eixo_x = range((tempo * 2) + 1)\n",
    "    eixo_y = []\n",
    "    for t in eixo_x:\n",
    "        calculo_juros = float(calculo(capital, taxa, t).split()[-1])\n",
    "        eixo_y.append(calculo_juros)\n",
    "    plt.vlines(eixo_x[tempo], 0 , eixo_y[tempo], linestyle=\"dashed\", color='gray')\n",
    "    plt.hlines(eixo_y[tempo], 0, eixo_x[tempo], linestyle=\"dashed\", color='gray')\n",
    "    plt.plot(eixo_x, eixo_y, zorder=2, color=cor)\n",
    "    plt.xlim(0,None)\n",
    "    plt.ylim(0,None)\n",
    "    plt.xlabel('Tempo')\n",
    "    plt.ylabel('Montante')\n",
    "    return plt"
   ]
  },
  {
   "cell_type": "code",
   "execution_count": 4,
   "metadata": {},
   "outputs": [
    {
     "data": {
      "application/vnd.jupyter.widget-view+json": {
       "model_id": "f423d28f2f764af78056812c8f5d6b47",
       "version_major": 2,
       "version_minor": 0
      },
      "text/plain": [
       "interactive(children=(FloatSlider(value=100.0, description='capital', max=300.0, min=-100.0), FloatSlider(valu…"
      ]
     },
     "metadata": {},
     "output_type": "display_data"
    }
   ],
   "source": [
    "import matplotlib.patches as mpatches\n",
    "\n",
    "@interact\n",
    "def exibe_graficos(capital=100.0, taxa=0.2, tempo=5):\n",
    "    grafico = gera_grafico(capital, taxa, tempo, juros_simples, 'blue')\n",
    "    grafico = gera_grafico(capital, taxa, tempo, juros_compostos)\n",
    "    grafico.title('Juros Simples x Juros Compostos')\n",
    "    simples = mpatches.Patch(color='blue', label='simples')\n",
    "    composto = mpatches.Patch(color='red', label='composto')\n",
    "    grafico.legend(handles=[composto, simples], bbox_to_anchor=(1.05, 1), loc=2, borderaxespad=0.)\n",
    "    grafico.show"
   ]
  },
  {
   "cell_type": "code",
   "execution_count": null,
   "metadata": {},
   "outputs": [],
   "source": []
  }
 ],
 "metadata": {
  "kernelspec": {
   "display_name": "Python 3",
   "language": "python",
   "name": "python3"
  },
  "language_info": {
   "codemirror_mode": {
    "name": "ipython",
    "version": 3
   },
   "file_extension": ".py",
   "mimetype": "text/x-python",
   "name": "python",
   "nbconvert_exporter": "python",
   "pygments_lexer": "ipython3",
   "version": "3.6.6"
  }
 },
 "nbformat": 4,
 "nbformat_minor": 2
}
